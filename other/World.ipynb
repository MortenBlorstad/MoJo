{
 "cells": [
  {
   "cell_type": "markdown",
   "metadata": {},
   "source": [
    "### Some imports"
   ]
  },
  {
   "cell_type": "code",
   "execution_count": 22,
   "metadata": {},
   "outputs": [],
   "source": [
    "import pickle\n",
    "import numpy as np\n",
    "import matplotlib.pyplot as plt\n",
    "from matplotlib import colors\n",
    "import matplotlib.patches as patches\n",
    "from dataclasses import dataclass\n",
    "import shutil\n",
    "import os\n",
    "from PIL import Image as im"
   ]
  },
  {
   "cell_type": "markdown",
   "metadata": {},
   "source": [
    "### Copy file from WSL2"
   ]
  },
  {
   "cell_type": "code",
   "execution_count": null,
   "metadata": {},
   "outputs": [],
   "source": [
    "#Jørgen\n",
    "if os.getlogin() == 'JørgenMjaaseth':\n",
    "\n",
    "    #WSL Path\n",
    "    src = '\\\\\\\\wsl.localhost\\\\Ubuntu\\\\home\\\\jorgen\\\\MoJo\\\\world\\\\npworld.pkl'\n",
    "\n",
    "    #Running Windows\n",
    "    dst = 'C:\\\\Code\\\\Python\\\\cudatorch\\\\World\\\\npworld.pkl'\n",
    "\n",
    "#Morten\n",
    "else:   \n",
    "    \n",
    "    #WSL Path\n",
    "    src = '\\\\\\\\wsl.localhost\\\\Ubuntu\\\\home\\\\morten\\\\Lux-Design-S3\\\\MoJo\\\\npworld.pkl'   #Please check\n",
    "\n",
    "    #Your local path(on windows?)\n",
    "    dst = 'C:\\\\Code\\\\Python\\\\cudatorch\\\\World\\\\npworld.pkl'                             #Please check\n",
    "\n",
    "#Copy\n",
    "shutil.copyfile(src, dst)"
   ]
  },
  {
   "cell_type": "markdown",
   "metadata": {},
   "source": [
    "### NPState (copied from space.py)"
   ]
  },
  {
   "cell_type": "code",
   "execution_count": 14,
   "metadata": {},
   "outputs": [],
   "source": [
    "@dataclass\n",
    "class NPState:\n",
    "\n",
    "    relic_nodes: np.ndarray\n",
    "    relic_nodes_mask: np.ndarray\n",
    "    relic_node_configs: np.ndarray\n",
    "    relic_nodes_map_weights: np.ndarray\n",
    "\n",
    "    map_features_energy: np.ndarray\n",
    "    map_features_tile_type: np.ndarray\n",
    "\n",
    "    energy_nodes:  np.ndarray\n",
    "    energy_node_fns: np.ndarray\n",
    "    energy_nodes_mask: np.ndarray"
   ]
  },
  {
   "cell_type": "markdown",
   "metadata": {},
   "source": [
    "### Load"
   ]
  },
  {
   "cell_type": "code",
   "execution_count": 15,
   "metadata": {},
   "outputs": [],
   "source": [
    "def loadworld(file):\n",
    "    with open(file, 'rb') as f:\n",
    "        return pickle.load(f)    \n",
    "\n",
    "w = loadworld(dst)"
   ]
  },
  {
   "cell_type": "markdown",
   "metadata": {},
   "source": [
    "### Show map"
   ]
  },
  {
   "cell_type": "code",
   "execution_count": null,
   "metadata": {},
   "outputs": [],
   "source": [
    "# create discrete colormap\n",
    "spacecolor = np.array([230/256, 230/256, 230/256, 1])\n",
    "nebulacolor = np.array([91/256, 95/256, 151/256, 1])\n",
    "asteroidcolor = np.array([44/256, 62/256, 80/256, 1])\n",
    "reliccolor = np.array([255/256, 165/256, 0/256, 1])\n",
    "pointcolor = np.array([217/256, 217/256, 207/256, 1])\n",
    "cmap = colors.ListedColormap([spacecolor,nebulacolor, asteroidcolor,pointcolor])\n",
    "\n",
    "#arr = (arr-np.min(arr))/(np.max(arr)-np.min(arr))\n",
    "\n",
    "mapdata = (w.map_features_tile_type + w.relic_nodes_map_weights *3).T\n",
    "\n",
    "img = im.fromarray(np.uint8(cmap(mapdata)*255))\n",
    "\n",
    "# Create figure and axes\n",
    "fig, ax = plt.subplots(figsize=(16, 16))\n",
    "\n",
    "# Display the image\n",
    "ax.imshow(img)\n",
    "\n",
    "# Create a Rectangle patch\n",
    "offset = .2\n",
    "for x,y in w.relic_nodes[np.where(w.relic_nodes_mask)]:\n",
    "    x = x - 0.5 + offset\n",
    "    y = y - 0.5 + offset\n",
    "    rect = patches.Rectangle((x, y), 1-2*offset, 1-2*offset, linewidth=1, edgecolor='None', facecolor=reliccolor)\n",
    "\n",
    "    # Add the patch to the Axes\n",
    "    ax.add_patch(rect)\n",
    "\n",
    "plt.show()"
   ]
  },
  {
   "cell_type": "markdown",
   "metadata": {},
   "source": [
    "### ToDo: Figure out energy..."
   ]
  },
  {
   "cell_type": "code",
   "execution_count": null,
   "metadata": {},
   "outputs": [],
   "source": [
    "print(w.energy_nodes)\n",
    "print(w.energy_nodes_mask)\n",
    "print(w.energy_node_fns)"
   ]
  }
 ],
 "metadata": {
  "kernelspec": {
   "display_name": "cudatorch",
   "language": "python",
   "name": "python3"
  },
  "language_info": {
   "codemirror_mode": {
    "name": "ipython",
    "version": 3
   },
   "file_extension": ".py",
   "mimetype": "text/x-python",
   "name": "python",
   "nbconvert_exporter": "python",
   "pygments_lexer": "ipython3",
   "version": "3.12.6"
  }
 },
 "nbformat": 4,
 "nbformat_minor": 2
}
